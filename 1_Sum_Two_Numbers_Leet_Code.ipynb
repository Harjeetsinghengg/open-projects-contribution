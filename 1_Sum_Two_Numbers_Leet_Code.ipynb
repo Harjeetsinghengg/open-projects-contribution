{
  "nbformat": 4,
  "nbformat_minor": 0,
  "metadata": {
    "colab": {
      "provenance": [],
      "authorship_tag": "ABX9TyNtKK8HLitF0UUJaTIJhUpC",
      "include_colab_link": true
    },
    "kernelspec": {
      "name": "python3",
      "display_name": "Python 3"
    },
    "language_info": {
      "name": "python"
    }
  },
  "cells": [
    {
      "cell_type": "markdown",
      "metadata": {
        "id": "view-in-github",
        "colab_type": "text"
      },
      "source": [
        "<a href=\"https://colab.research.google.com/github/Harjeetsinghengg/open-projects-contribution/blob/main/1_Sum_Two_Numbers_Leet_Code.ipynb\" target=\"_parent\"><img src=\"https://colab.research.google.com/assets/colab-badge.svg\" alt=\"Open In Colab\"/></a>"
      ]
    },
    {
      "cell_type": "markdown",
      "source": [
        "1. Two Sum\n",
        "Solved\n",
        "Easy\n",
        "Topics\n",
        "Companies\n",
        "Hint\n",
        "Given an array of integers nums and an integer target, return indices of the two numbers such that they add up to target.\n",
        "\n",
        "You may assume that each input would have exactly one solution, and you may not use the same element twice.\n",
        "\n",
        "You can return the answer in any order.\n",
        "\n",
        "\n",
        "\n",
        "Example 1:\n",
        "\n",
        "Input: nums = [2,7,11,15], target = 9\n",
        "Output: [0,1]\n",
        "Explanation: Because nums[0] + nums[1] == 9, we return [0, 1].\n",
        "Example 2:\n",
        "\n",
        "Input: nums = [3,2,4], target = 6\n",
        "Output: [1,2]\n",
        "Example 3:\n",
        "\n",
        "Input: nums = [3,3], target = 6\n",
        "Output: [0,1]\n",
        ""
      ],
      "metadata": {
        "id": "EuD103q6C8pk"
      }
    },
    {
      "cell_type": "code",
      "execution_count": 11,
      "metadata": {
        "colab": {
          "base_uri": "https://localhost:8080/"
        },
        "id": "lbpNlrk-30nR",
        "outputId": "6658e4fb-7899-485d-ac1b-cc8fcf935936"
      },
      "outputs": [
        {
          "output_type": "stream",
          "name": "stdout",
          "text": [
            "[3, 4]\n"
          ]
        }
      ],
      "source": [
        "\n",
        "class Solution:\n",
        "  def twoSum(self, nums: List[int], target: int) -> List[int]:\n",
        "    prevMap = {} # val : index\n",
        "\n",
        "    for i, n in enumerate(nums):\n",
        "      diff = target -n\n",
        "      if diff in prevMap:\n",
        "        return [prevMap[diff], i]\n",
        "\n",
        "\n",
        "      prevMap[n] = i\n",
        "    return\n",
        "\n",
        "\n",
        "nums = [2,7,11,15]\n",
        "target = 9\n",
        "s = Solution()\n",
        "print(s.twoSum(num,target))\n"
      ]
    }
  ]
}