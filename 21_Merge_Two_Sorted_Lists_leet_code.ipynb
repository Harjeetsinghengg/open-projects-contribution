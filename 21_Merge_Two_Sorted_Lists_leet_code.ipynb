{
  "nbformat": 4,
  "nbformat_minor": 0,
  "metadata": {
    "colab": {
      "provenance": [],
      "authorship_tag": "ABX9TyPEUSMGea2iK7cLLFJ6hBej",
      "include_colab_link": true
    },
    "kernelspec": {
      "name": "python3",
      "display_name": "Python 3"
    },
    "language_info": {
      "name": "python"
    }
  },
  "cells": [
    {
      "cell_type": "markdown",
      "metadata": {
        "id": "view-in-github",
        "colab_type": "text"
      },
      "source": [
        "<a href=\"https://colab.research.google.com/github/Harjeetsinghengg/open-projects-contribution/blob/main/21_Merge_Two_Sorted_Lists_leet_code.ipynb\" target=\"_parent\"><img src=\"https://colab.research.google.com/assets/colab-badge.svg\" alt=\"Open In Colab\"/></a>"
      ]
    },
    {
      "cell_type": "code",
      "execution_count": 4,
      "metadata": {
        "id": "oOh-jKHG9W9s"
      },
      "outputs": [],
      "source": [
        "# Definition for singly-linked list.\n",
        "class ListNode:\n",
        "    def __init__(self, val=0, next=None):\n",
        "        self.val = val\n",
        "        self.next = next\n",
        "from typing import Optional\n",
        "class Solution:\n",
        "    def mergeTwoLists(self, list1: Optional[ListNode], list2: Optional[ListNode]) -> Optional[ListNode]:\n",
        "        dummy = ListNode()\n",
        "        tail = dummy\n",
        "\n",
        "        while list1 and list2:\n",
        "            if list1.val < list2.val:\n",
        "                tail.next=list1\n",
        "                list1=list1.next\n",
        "            else:\n",
        "                tail.next=list2\n",
        "                list2=list2.next\n",
        "            tail=tail.next\n",
        "\n",
        "        if list1:\n",
        "            tail.next=list1\n",
        "\n",
        "        if list2:\n",
        "            tail.next=list2\n",
        "        return dummy.next"
      ]
    },
    {
      "cell_type": "code",
      "source": [],
      "metadata": {
        "id": "TyVHRb_D9rPl"
      },
      "execution_count": null,
      "outputs": []
    }
  ]
}