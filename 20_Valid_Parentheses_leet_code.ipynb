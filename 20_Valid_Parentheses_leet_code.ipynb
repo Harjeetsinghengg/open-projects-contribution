{
  "nbformat": 4,
  "nbformat_minor": 0,
  "metadata": {
    "colab": {
      "provenance": [],
      "authorship_tag": "ABX9TyMk765radlJ1iDxgVoAZcdO",
      "include_colab_link": true
    },
    "kernelspec": {
      "name": "python3",
      "display_name": "Python 3"
    },
    "language_info": {
      "name": "python"
    }
  },
  "cells": [
    {
      "cell_type": "markdown",
      "metadata": {
        "id": "view-in-github",
        "colab_type": "text"
      },
      "source": [
        "<a href=\"https://colab.research.google.com/github/Harjeetsinghengg/open-projects-contribution/blob/main/20_Valid_Parentheses_leet_code.ipynb\" target=\"_parent\"><img src=\"https://colab.research.google.com/assets/colab-badge.svg\" alt=\"Open In Colab\"/></a>"
      ]
    },
    {
      "cell_type": "code",
      "execution_count": 3,
      "metadata": {
        "id": "ZFIXaS_KyA-G"
      },
      "outputs": [],
      "source": [
        "class Solution:\n",
        "    def isValid(self, s: str) -> bool:\n",
        "        stack = []\n",
        "        closeToOpen = { \")\" : \"(\", \"]\":\"[\", \"}\":\"{\"}\n",
        "\n",
        "        for c in s:\n",
        "          if c in closeToOpen:\n",
        "            if stack and stack[-1] == closeToOpen[c]:\n",
        "              stack.pop()\n",
        "            else:\n",
        "              return False\n",
        "          else:\n",
        "            stack.append(c)\n",
        "        return True if not stack else False\n"
      ]
    },
    {
      "cell_type": "code",
      "source": [],
      "metadata": {
        "id": "uHy6zDHDy6Ou"
      },
      "execution_count": null,
      "outputs": []
    }
  ]
}