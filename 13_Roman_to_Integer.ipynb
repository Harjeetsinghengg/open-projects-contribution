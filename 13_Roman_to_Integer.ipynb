{
  "nbformat": 4,
  "nbformat_minor": 0,
  "metadata": {
    "colab": {
      "provenance": [],
      "authorship_tag": "ABX9TyP1MPxGB8Aj0+UBU1rI8tIx",
      "include_colab_link": true
    },
    "kernelspec": {
      "name": "python3",
      "display_name": "Python 3"
    },
    "language_info": {
      "name": "python"
    }
  },
  "cells": [
    {
      "cell_type": "markdown",
      "metadata": {
        "id": "view-in-github",
        "colab_type": "text"
      },
      "source": [
        "<a href=\"https://colab.research.google.com/github/Harjeetsinghengg/open-projects-contribution/blob/main/13_Roman_to_Integer.ipynb\" target=\"_parent\"><img src=\"https://colab.research.google.com/assets/colab-badge.svg\" alt=\"Open In Colab\"/></a>"
      ]
    },
    {
      "cell_type": "code",
      "execution_count": 3,
      "metadata": {
        "id": "IX25oXsOrXaS"
      },
      "outputs": [],
      "source": [
        "class Solution:\n",
        "    def romanToInt(self, s: str) -> int:\n",
        "      roman={\"I\":1, \"V\":5, \"X\":10, \"L\":50, \"C\":100, \"D\":500, \"M\":1000}\n",
        "      res=0\n",
        "      for i in range(len(s)) and roman[s[i]]<roman[s[i+1]]:\n",
        "        res -= roman[s[i]]\n",
        "      else:\n",
        "        res += roman[s[i]]\n",
        "      return res"
      ]
    },
    {
      "cell_type": "code",
      "source": [],
      "metadata": {
        "id": "Dytq6cftsUkO"
      },
      "execution_count": null,
      "outputs": []
    }
  ]
}